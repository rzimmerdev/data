{
 "cells": [
  {
   "cell_type": "code",
   "execution_count": 27,
   "metadata": {},
   "outputs": [],
   "source": [
    "import json\n",
    "from datetime import datetime\n",
    "\n",
    "import numpy as np\n",
    "import pandas as pd\n",
    "import seaborn as sns"
   ]
  },
  {
   "cell_type": "code",
   "execution_count": 6,
   "metadata": {
    "pycharm": {
     "name": "#%%\n"
    }
   },
   "outputs": [],
   "source": [
    "from binance import Client, ThreadedWebsocketManager, ThreadedDepthCacheManager\n",
    "\n",
    "api_key = 'eW4p0oktgWfTP5ycSABmfuYreNwBy9Cu7UtVSbV8LMpsR0Ik0XVJJs4bzEjjD759'\n",
    "api_secret = 'hVDpfjDK3hRmGiVsXLPhYhetLjuTwgWw7TP0YVawWM3y9sOkIQn18jvM2wiAwL57'\n",
    "\n",
    "client = Client(api_key, api_secret)\n",
    "depth = client.get_order_book(symbol='ETHBRL')"
   ]
  },
  {
   "cell_type": "code",
   "execution_count": 7,
   "metadata": {
    "pycharm": {
     "name": "#%%\n"
    }
   },
   "outputs": [
    {
     "name": "stdout",
     "output_type": "stream",
     "text": [
      "{'symbol': 'ETHBRL', 'price': '13290.06000000'}\n"
     ]
    }
   ],
   "source": [
    "order = client.create_test_order(\n",
    "    symbol='BNBBTC',\n",
    "    side=Client.SIDE_BUY,\n",
    "    type=Client.ORDER_TYPE_MARKET,\n",
    "    quantity=100)\n",
    "\n",
    "prices = client.get_all_tickers()\n",
    "\n",
    "print(next((asset for asset in prices if asset['symbol'] == 'ETHBRL'), None))"
   ]
  },
  {
   "cell_type": "code",
   "execution_count": 23,
   "metadata": {
    "pycharm": {
     "name": "#%%\n"
    }
   },
   "outputs": [],
   "source": [
    "symbol = 'ETHBRL'\n",
    "\n",
    "klines = client.get_historical_klines(symbol, Client.KLINE_INTERVAL_1DAY, \"365 day ago UTC\")\n",
    "\n",
    "candles = []\n",
    "\n",
    "for line_index in range(0, len(klines)):\n",
    "    line = klines[line_index]\n",
    "    candle = {'open_time': float(line[0]/1000), 'open': float(line[1]), 'high': float(line[2]), 'low': float(line[3]),\n",
    "              'close': float(line[4]), 'volume': float(line[5]), 'asset_volume': float(line[7]),\n",
    "              'n_trades': float(line[8])}\n",
    "\n",
    "    if candle['open_time'] and candle['close']:\n",
    "        candles.append(candle)"
   ]
  },
  {
   "cell_type": "code",
   "execution_count": 24,
   "metadata": {
    "pycharm": {
     "name": "#%%\n"
    }
   },
   "outputs": [],
   "source": [
    "from matplotlib import pyplot as plt\n",
    "\n",
    "df = pd.DataFrame(candles)\n",
    "\n",
    "n = len(df)\n",
    "train_df = df[0:int(n*0.7)]\n",
    "val_df = df[int(n*0.7):int(n*0.9)]\n",
    "test_df = df[int(n*0.9):]\n",
    "\n",
    "num_features = df.shape[1]"
   ]
  },
  {
   "cell_type": "code",
   "execution_count": 25,
   "metadata": {},
   "outputs": [
    {
     "data": {
      "text/html": [
       "<div>\n",
       "<style scoped>\n",
       "    .dataframe tbody tr th:only-of-type {\n",
       "        vertical-align: middle;\n",
       "    }\n",
       "\n",
       "    .dataframe tbody tr th {\n",
       "        vertical-align: top;\n",
       "    }\n",
       "\n",
       "    .dataframe thead th {\n",
       "        text-align: right;\n",
       "    }\n",
       "</style>\n",
       "<table border=\"1\" class=\"dataframe\">\n",
       "  <thead>\n",
       "    <tr style=\"text-align: right;\">\n",
       "      <th></th>\n",
       "      <th>open_time</th>\n",
       "      <th>open</th>\n",
       "      <th>high</th>\n",
       "      <th>low</th>\n",
       "      <th>close</th>\n",
       "      <th>volume</th>\n",
       "      <th>asset_volume</th>\n",
       "      <th>n_trades</th>\n",
       "    </tr>\n",
       "  </thead>\n",
       "  <tbody>\n",
       "    <tr>\n",
       "      <th>0</th>\n",
       "      <td>1.611619e+09</td>\n",
       "      <td>7287.51</td>\n",
       "      <td>7631.53</td>\n",
       "      <td>6850.00</td>\n",
       "      <td>7387.92</td>\n",
       "      <td>1421.91480</td>\n",
       "      <td>1.025536e+07</td>\n",
       "      <td>6429.0</td>\n",
       "    </tr>\n",
       "    <tr>\n",
       "      <th>1</th>\n",
       "      <td>1.611706e+09</td>\n",
       "      <td>7359.30</td>\n",
       "      <td>7426.34</td>\n",
       "      <td>6591.00</td>\n",
       "      <td>6800.00</td>\n",
       "      <td>1787.34812</td>\n",
       "      <td>1.238733e+07</td>\n",
       "      <td>7439.0</td>\n",
       "    </tr>\n",
       "    <tr>\n",
       "      <th>2</th>\n",
       "      <td>1.611792e+09</td>\n",
       "      <td>6797.87</td>\n",
       "      <td>7423.02</td>\n",
       "      <td>6700.86</td>\n",
       "      <td>7246.22</td>\n",
       "      <td>1241.62199</td>\n",
       "      <td>8.945970e+06</td>\n",
       "      <td>5290.0</td>\n",
       "    </tr>\n",
       "    <tr>\n",
       "      <th>3</th>\n",
       "      <td>1.611878e+09</td>\n",
       "      <td>7259.26</td>\n",
       "      <td>7750.74</td>\n",
       "      <td>6989.94</td>\n",
       "      <td>7580.00</td>\n",
       "      <td>2496.30527</td>\n",
       "      <td>1.865110e+07</td>\n",
       "      <td>11244.0</td>\n",
       "    </tr>\n",
       "    <tr>\n",
       "      <th>4</th>\n",
       "      <td>1.611965e+09</td>\n",
       "      <td>7589.92</td>\n",
       "      <td>7725.00</td>\n",
       "      <td>7324.79</td>\n",
       "      <td>7536.77</td>\n",
       "      <td>934.03693</td>\n",
       "      <td>7.019668e+06</td>\n",
       "      <td>4483.0</td>\n",
       "    </tr>\n",
       "  </tbody>\n",
       "</table>\n",
       "</div>"
      ],
      "text/plain": [
       "      open_time     open     high      low    close      volume  asset_volume  \\\n",
       "0  1.611619e+09  7287.51  7631.53  6850.00  7387.92  1421.91480  1.025536e+07   \n",
       "1  1.611706e+09  7359.30  7426.34  6591.00  6800.00  1787.34812  1.238733e+07   \n",
       "2  1.611792e+09  6797.87  7423.02  6700.86  7246.22  1241.62199  8.945970e+06   \n",
       "3  1.611878e+09  7259.26  7750.74  6989.94  7580.00  2496.30527  1.865110e+07   \n",
       "4  1.611965e+09  7589.92  7725.00  7324.79  7536.77   934.03693  7.019668e+06   \n",
       "\n",
       "   n_trades  \n",
       "0    6429.0  \n",
       "1    7439.0  \n",
       "2    5290.0  \n",
       "3   11244.0  \n",
       "4    4483.0  "
      ]
     },
     "execution_count": 25,
     "metadata": {},
     "output_type": "execute_result"
    }
   ],
   "source": [
    "train_df.head()"
   ]
  },
  {
   "cell_type": "code",
   "execution_count": 28,
   "metadata": {
    "pycharm": {
     "name": "#%%\n"
    }
   },
   "outputs": [
    {
     "data": {
      "image/png": "[encoded data removed]",
      "text/plain": [
       "<Figure size 864x432 with 1 Axes>"
      ]
     },
     "metadata": {
      "needs_background": "light"
     },
     "output_type": "display_data"
    }
   ],
   "source": [
    "train_mean = train_df.mean()\n",
    "train_std = train_df.std()\n",
    "\n",
    "train_df = (train_df - train_mean) / train_std\n",
    "val_df = (val_df - train_mean) / train_std\n",
    "test_df = (test_df - train_mean) / train_std\n",
    "\n",
    "df_std = (df - train_mean) / train_std\n",
    "df_std = df_std.melt(var_name='Column', value_name='Normalized')\n",
    "plt.figure(figsize=(12, 6))\n",
    "ax = sns.violinplot(x='Column', y='Normalized', data=df_std)\n",
    "_ = ax.set_xticklabels(df.keys(), rotation=90)"
   ]
  },
  {
   "cell_type": "code",
   "execution_count": null,
   "metadata": {
    "pycharm": {
     "name": "#%%\n"
    }
   },
   "outputs": [],
   "source": []
  }
 ],
 "metadata": {
  "kernelspec": {
   "display_name": "Python 3 (ipykernel)",
   "language": "python",
   "name": "python3"
  },
  "language_info": {
   "codemirror_mode": {
    "name": "ipython",
    "version": 3
   },
   "file_extension": ".py",
   "mimetype": "text/x-python",
   "name": "python",
   "nbconvert_exporter": "python",
   "pygments_lexer": "ipython3",
   "version": "3.9.7"
  }
 },
 "nbformat": 4,
 "nbformat_minor": 1
}